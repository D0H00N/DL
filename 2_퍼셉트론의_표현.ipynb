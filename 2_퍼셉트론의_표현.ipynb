{
  "nbformat": 4,
  "nbformat_minor": 0,
  "metadata": {
    "colab": {
      "provenance": [],
      "authorship_tag": "ABX9TyOD48PKFwSvs19woPTksXAy",
      "include_colab_link": true
    },
    "kernelspec": {
      "name": "python3",
      "display_name": "Python 3"
    },
    "language_info": {
      "name": "python"
    }
  },
  "cells": [
    {
      "cell_type": "markdown",
      "metadata": {
        "id": "view-in-github",
        "colab_type": "text"
      },
      "source": [
        "<a href=\"https://colab.research.google.com/github/D0H00N/DL/blob/main/2_%ED%8D%BC%EC%85%89%ED%8A%B8%EB%A1%A0%EC%9D%98_%ED%91%9C%ED%98%84.ipynb\" target=\"_parent\"><img src=\"https://colab.research.google.com/assets/colab-badge.svg\" alt=\"Open In Colab\"/></a>"
      ]
    },
    {
      "cell_type": "code",
      "execution_count": 1,
      "metadata": {
        "id": "3C5JH55dKnll"
      },
      "outputs": [],
      "source": [
        "# 함수 구성"
      ]
    },
    {
      "cell_type": "code",
      "source": [
        "1 1 = 0"
      ],
      "metadata": {
        "id": "V6AEZ04-MEUj"
      },
      "execution_count": null,
      "outputs": []
    },
    {
      "cell_type": "code",
      "source": [
        "def AND(x1, x2):\n",
        "  w1, w2, theta = 0.5, 0.5, 0.7 # 가중치\n",
        "  tmp = x1*w1 + x2*w2\n",
        "  if tmp <= theta:\n",
        "    return 0\n",
        "  elif tmp > theta:\n",
        "    return 1"
      ],
      "metadata": {
        "id": "H_w8ZL8GK6Bj"
      },
      "execution_count": 2,
      "outputs": []
    },
    {
      "cell_type": "code",
      "source": [
        "print(AND(0,0))\n",
        "print(AND(0,1))\n",
        "print(AND(1,0))\n",
        "print(AND(1,1))"
      ],
      "metadata": {
        "colab": {
          "base_uri": "https://localhost:8080/"
        },
        "id": "HjF0YxF8MSXb",
        "outputId": "ef4e293f-8c4d-4b86-877a-ee5489460ca2"
      },
      "execution_count": 3,
      "outputs": [
        {
          "output_type": "stream",
          "name": "stdout",
          "text": [
            "0\n",
            "0\n",
            "0\n",
            "1\n"
          ]
        }
      ]
    },
    {
      "cell_type": "code",
      "source": [
        "def OR(x1, x2) :\n",
        "  w1, w2, theta = 0.5, 0.5, 0.4\n",
        "  tmp = x1*w1 + x2*w2\n",
        "  if tmp <= theta:\n",
        "    return 0\n",
        "  elif tmp > theta:\n",
        "    return 1"
      ],
      "metadata": {
        "id": "W_7U5Al4MX6D"
      },
      "execution_count": 9,
      "outputs": []
    },
    {
      "cell_type": "code",
      "source": [
        "print(OR(0,0))\n",
        "print(OR(0,1))\n",
        "print(OR(1,0))\n",
        "print(OR(1,1))"
      ],
      "metadata": {
        "colab": {
          "base_uri": "https://localhost:8080/"
        },
        "id": "fsyMgYtqM6Wl",
        "outputId": "2ca8c74a-0c65-40f3-ff89-c1c3778d1f32"
      },
      "execution_count": 10,
      "outputs": [
        {
          "output_type": "stream",
          "name": "stdout",
          "text": [
            "0\n",
            "1\n",
            "1\n",
            "1\n"
          ]
        }
      ]
    },
    {
      "cell_type": "markdown",
      "source": [
        "뉴런"
      ],
      "metadata": {
        "id": "PcQwOiUgRrd2"
      }
    },
    {
      "cell_type": "code",
      "source": [
        "import numpy as np\n",
        "\n",
        "def AND(x1, x2):\n",
        "  x = np.array([x1,x2])\n",
        "  w = np.array([0.5, 0.5])\n",
        "  b = -0.7\n",
        "  tmp = np.sum(x*w) + b\n",
        "  if tmp<=0:\n",
        "    return 0\n",
        "  else:\n",
        "    return 1"
      ],
      "metadata": {
        "id": "0qKYXvocM-5h"
      },
      "execution_count": 13,
      "outputs": []
    },
    {
      "cell_type": "code",
      "source": [
        "import numpy as np\n",
        "\n",
        "def OR(x1, x2):\n",
        "  x = np.array([x1,x2])\n",
        "  w = np.array([0.5, 0.5])\n",
        "  b = -0.2\n",
        "  tmp = np.sum(x*w) + b\n",
        "  if tmp<=0:\n",
        "    return 0\n",
        "  else:\n",
        "    return 1"
      ],
      "metadata": {
        "id": "3iWsixO-RuXC"
      },
      "execution_count": 14,
      "outputs": []
    },
    {
      "cell_type": "code",
      "source": [
        "import numpy as np\n",
        "\n",
        "def NAND(x1, x2):\n",
        "  x = np.array([x1,x2])\n",
        "  w = np.array([-0.5, -0.5])\n",
        "  b = 0.7\n",
        "  tmp = np.sum(x*w) + b\n",
        "  if tmp<=0:\n",
        "    return 0\n",
        "  else:\n",
        "    return 1"
      ],
      "metadata": {
        "id": "dz_mZgHHRvEz"
      },
      "execution_count": 15,
      "outputs": []
    },
    {
      "cell_type": "code",
      "source": [
        "print(AND(0,0))\n",
        "print(AND(0,1))\n",
        "print(AND(1,0))\n",
        "print(AND(1,1))\n",
        "\n",
        "print(OR(0,0))\n",
        "print(OR(0,1))\n",
        "print(OR(1,0))\n",
        "print(OR(1,1))\n",
        "\n",
        "print(NAND(0,0))\n",
        "print(NAND(0,1))\n",
        "print(NAND(1,0))\n",
        "print(NAND(1,1))"
      ],
      "metadata": {
        "colab": {
          "base_uri": "https://localhost:8080/"
        },
        "id": "x8ioQNC4SvGb",
        "outputId": "91be4b1e-3522-46b2-8f08-bdab4d307554"
      },
      "execution_count": 16,
      "outputs": [
        {
          "output_type": "stream",
          "name": "stdout",
          "text": [
            "0\n",
            "0\n",
            "0\n",
            "1\n",
            "0\n",
            "1\n",
            "1\n",
            "1\n",
            "1\n",
            "1\n",
            "1\n",
            "0\n"
          ]
        }
      ]
    },
    {
      "cell_type": "code",
      "source": [
        "def XOR(x1, x2):\n",
        "    s1 = NAND(x1, x2)  # NAND 결과\n",
        "    s2 = OR(x1, x2)    # OR 결과\n",
        "    y = AND(s1, s2)    # AND 결과\n",
        "    return y\n"
      ],
      "metadata": {
        "id": "MAyvpp-JS1mz"
      },
      "execution_count": 17,
      "outputs": []
    },
    {
      "cell_type": "code",
      "source": [
        "print(XOR(0,0))\n",
        "print(XOR(0,1))\n",
        "print(XOR(1,0))\n",
        "print(XOR(1,1))"
      ],
      "metadata": {
        "colab": {
          "base_uri": "https://localhost:8080/"
        },
        "id": "-trPVymeUVhc",
        "outputId": "5c67633d-1a4e-4e4c-e426-5aea479b8e35"
      },
      "execution_count": 18,
      "outputs": [
        {
          "output_type": "stream",
          "name": "stdout",
          "text": [
            "0\n",
            "1\n",
            "1\n",
            "0\n"
          ]
        }
      ]
    },
    {
      "cell_type": "markdown",
      "source": [
        "1. 퍼셉트론은 입력과 출력이 있는 알고리즘, 입력을 정해진 규칙에 따라 계산해서 출력\n",
        "2. 퍼셉트론은 가중치와 편향(바이어스)를 이용해 매개변수를 설정\n",
        "3. 퍼셉트론 하나로 AND,OR 같은 논리 게이트 구성 가능 - 선형\n",
        "4. XOR 같은 복합논리는 퍼셉트론을 연결해 처리 - 비선형\n",
        "5. XOR은 2단 퍼셉트론으로 구성 할 수 있음"
      ],
      "metadata": {
        "id": "vhlTwlOhVpN1"
      }
    },
    {
      "cell_type": "markdown",
      "source": [
        "MNIST 데이터셋으로 신경망 구성"
      ],
      "metadata": {
        "id": "KlJ7pOWraDBy"
      }
    },
    {
      "cell_type": "code",
      "source": [
        "from tensorflow.keras.datasets import mnist\n",
        "(train_images, train_labels), (test_images, test_labels) = mnist.load_data()"
      ],
      "metadata": {
        "id": "1ewx7NE7aG4W"
      },
      "execution_count": 23,
      "outputs": []
    },
    {
      "cell_type": "code",
      "source": [
        "train_images.shape"
      ],
      "metadata": {
        "colab": {
          "base_uri": "https://localhost:8080/"
        },
        "id": "0yb9LyW4UW7X",
        "outputId": "4452329e-7d0e-467d-bc4f-13103b82c79b"
      },
      "execution_count": 24,
      "outputs": [
        {
          "output_type": "execute_result",
          "data": {
            "text/plain": [
              "(60000, 28, 28)"
            ]
          },
          "metadata": {},
          "execution_count": 24
        }
      ]
    },
    {
      "cell_type": "code",
      "source": [
        "len(train_labels)"
      ],
      "metadata": {
        "colab": {
          "base_uri": "https://localhost:8080/"
        },
        "id": "KVJFhslXazB4",
        "outputId": "7fda78cd-8f6d-4a3e-af2e-436a297158f4"
      },
      "execution_count": 25,
      "outputs": [
        {
          "output_type": "execute_result",
          "data": {
            "text/plain": [
              "60000"
            ]
          },
          "metadata": {},
          "execution_count": 25
        }
      ]
    },
    {
      "cell_type": "code",
      "source": [
        "train_labels[:5]"
      ],
      "metadata": {
        "colab": {
          "base_uri": "https://localhost:8080/"
        },
        "id": "OgXO3DbNa4_6",
        "outputId": "b5558469-25c0-4c3a-ceee-8ddd4502f4cb"
      },
      "execution_count": 26,
      "outputs": [
        {
          "output_type": "execute_result",
          "data": {
            "text/plain": [
              "array([5, 0, 4, 1, 9], dtype=uint8)"
            ]
          },
          "metadata": {},
          "execution_count": 26
        }
      ]
    },
    {
      "cell_type": "code",
      "source": [
        "from tensorflow import keras\n",
        "from tensorflow.keras import layers\n",
        "\n",
        "model = keras.Sequential([\n",
        "    layers.Dense(512, activation=\"relu\"),\n",
        "    layers.Dense(10, activation=\"softmax\")\n",
        "])"
      ],
      "metadata": {
        "id": "292yZXrGa0_Y"
      },
      "execution_count": 28,
      "outputs": []
    },
    {
      "cell_type": "code",
      "source": [
        "model.compile(\n",
        "              optimizer=\"rmsprop\",\n",
        "              loss=\"sparse_categorical_crossentropy\",\n",
        "              metrics=[\"accuracy\"])"
      ],
      "metadata": {
        "id": "8DXV-2bDbqEJ"
      },
      "execution_count": 29,
      "outputs": []
    },
    {
      "cell_type": "code",
      "source": [
        "train_images = train_images.reshape((60000,28 * 28 ))\n",
        "train_images = train_images.astype('float32') / 255\n",
        "test_images = test_images.reshape((10000,28 * 28 ))\n",
        "test_images = test_images.astype('float32') / 255\n",
        "\n",
        "model.fit(train_images, train_labels, epochs=5, batch_size=128)"
      ],
      "metadata": {
        "colab": {
          "base_uri": "https://localhost:8080/"
        },
        "id": "X5MVM_7KchOd",
        "outputId": "e4d0fb00-5929-4f15-e71a-807113d45a15"
      },
      "execution_count": 35,
      "outputs": [
        {
          "output_type": "stream",
          "name": "stdout",
          "text": [
            "Epoch 1/5\n",
            "\u001b[1m469/469\u001b[0m \u001b[32m━━━━━━━━━━━━━━━━━━━━\u001b[0m\u001b[37m\u001b[0m \u001b[1m5s\u001b[0m 8ms/step - accuracy: 0.1640 - loss: 2.2804\n",
            "Epoch 2/5\n",
            "\u001b[1m469/469\u001b[0m \u001b[32m━━━━━━━━━━━━━━━━━━━━\u001b[0m\u001b[37m\u001b[0m \u001b[1m5s\u001b[0m 8ms/step - accuracy: 0.5326 - loss: 1.8716\n",
            "Epoch 3/5\n",
            "\u001b[1m469/469\u001b[0m \u001b[32m━━━━━━━━━━━━━━━━━━━━\u001b[0m\u001b[37m\u001b[0m \u001b[1m6s\u001b[0m 12ms/step - accuracy: 0.7253 - loss: 1.1451\n",
            "Epoch 4/5\n",
            "\u001b[1m469/469\u001b[0m \u001b[32m━━━━━━━━━━━━━━━━━━━━\u001b[0m\u001b[37m\u001b[0m \u001b[1m8s\u001b[0m 8ms/step - accuracy: 0.7975 - loss: 0.8007\n",
            "Epoch 5/5\n",
            "\u001b[1m469/469\u001b[0m \u001b[32m━━━━━━━━━━━━━━━━━━━━\u001b[0m\u001b[37m\u001b[0m \u001b[1m7s\u001b[0m 12ms/step - accuracy: 0.8361 - loss: 0.6246\n"
          ]
        },
        {
          "output_type": "execute_result",
          "data": {
            "text/plain": [
              "<keras.src.callbacks.history.History at 0x7d3a0cda0190>"
            ]
          },
          "metadata": {},
          "execution_count": 35
        }
      ]
    },
    {
      "cell_type": "code",
      "source": [
        "test_digits = test_images[0:10]\n",
        "predictions = model.predict(test_digits)\n",
        "predictions[0]\n"
      ],
      "metadata": {
        "colab": {
          "base_uri": "https://localhost:8080/"
        },
        "id": "n8lHk_Lzc-rm",
        "outputId": "9eb510bb-2749-41bc-ec2d-364e00b428ec"
      },
      "execution_count": 36,
      "outputs": [
        {
          "output_type": "stream",
          "name": "stdout",
          "text": [
            "\u001b[1m1/1\u001b[0m \u001b[32m━━━━━━━━━━━━━━━━━━━━\u001b[0m\u001b[37m\u001b[0m \u001b[1m0s\u001b[0m 193ms/step\n"
          ]
        },
        {
          "output_type": "execute_result",
          "data": {
            "text/plain": [
              "array([5.4067193e-04, 4.1379408e-05, 9.9912431e-05, 1.1406241e-03,\n",
              "       1.1271557e-03, 2.0594485e-03, 4.4049093e-06, 9.7028983e-01,\n",
              "       2.8765301e-04, 2.4408901e-02], dtype=float32)"
            ]
          },
          "metadata": {},
          "execution_count": 36
        }
      ]
    },
    {
      "cell_type": "code",
      "source": [
        "predictions[0].argmax()"
      ],
      "metadata": {
        "colab": {
          "base_uri": "https://localhost:8080/"
        },
        "id": "V8bvpqMbgtGr",
        "outputId": "4358176d-6d68-4b20-809e-cb0dc771c849"
      },
      "execution_count": 37,
      "outputs": [
        {
          "output_type": "execute_result",
          "data": {
            "text/plain": [
              "7"
            ]
          },
          "metadata": {},
          "execution_count": 37
        }
      ]
    },
    {
      "cell_type": "code",
      "source": [
        "test_labels[0]"
      ],
      "metadata": {
        "colab": {
          "base_uri": "https://localhost:8080/"
        },
        "id": "KvJsUjb-g9Lg",
        "outputId": "eb509078-8a74-4d8c-f110-9ed737995a19"
      },
      "execution_count": 38,
      "outputs": [
        {
          "output_type": "execute_result",
          "data": {
            "text/plain": [
              "7"
            ]
          },
          "metadata": {},
          "execution_count": 38
        }
      ]
    },
    {
      "cell_type": "code",
      "source": [],
      "metadata": {
        "id": "AtgGoWA3g-sL"
      },
      "execution_count": null,
      "outputs": []
    }
  ]
}