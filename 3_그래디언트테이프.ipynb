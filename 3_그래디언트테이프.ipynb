{
  "nbformat": 4,
  "nbformat_minor": 0,
  "metadata": {
    "colab": {
      "provenance": [],
      "authorship_tag": "ABX9TyMX62oOeJlDigWo04cpFZcq",
      "include_colab_link": true
    },
    "kernelspec": {
      "name": "python3",
      "display_name": "Python 3"
    },
    "language_info": {
      "name": "python"
    }
  },
  "cells": [
    {
      "cell_type": "markdown",
      "metadata": {
        "id": "view-in-github",
        "colab_type": "text"
      },
      "source": [
        "<a href=\"https://colab.research.google.com/github/D0H00N/DL/blob/main/3_%EA%B7%B8%EB%9E%98%EB%94%94%EC%96%B8%ED%8A%B8%ED%85%8C%EC%9D%B4%ED%94%84.ipynb\" target=\"_parent\"><img src=\"https://colab.research.google.com/assets/colab-badge.svg\" alt=\"Open In Colab\"/></a>"
      ]
    },
    {
      "cell_type": "code",
      "source": [
        "# 그레디언트테이프 = 자동 미분 기능 활용 API\n",
        "사용 python with 문, 코드 블록 안의 모든 텐서 연산을 계산 그래프 형태로 기록"
      ],
      "metadata": {
        "id": "wB9ezJXMeuBo"
      },
      "execution_count": null,
      "outputs": []
    },
    {
      "cell_type": "code",
      "execution_count": 4,
      "metadata": {
        "colab": {
          "base_uri": "https://localhost:8080/"
        },
        "id": "fpiYNJ1yZ_4S",
        "outputId": "770897fc-fc93-4114-b5d8-50d23531a7e6"
      },
      "outputs": [
        {
          "output_type": "execute_result",
          "data": {
            "text/plain": [
              "<tf.Tensor: shape=(), dtype=float32, numpy=2.0>"
            ]
          },
          "metadata": {},
          "execution_count": 4
        }
      ],
      "source": [
        "import tensorflow as tf\n",
        "\n",
        "#1. scala 값의 기울기 계산\n",
        "\n",
        "x = tf.Variable(0.)\n",
        "\n",
        "with tf.GradientTape() as tape:\n",
        "#y를 계산하기 위한 규칙\n",
        "  y = 2*x + 3\n",
        "\n",
        "grad_y_x = tape.gradient(y,x)\n",
        "grad_y_x"
      ]
    },
    {
      "cell_type": "code",
      "source": [
        "#2. 행렬의 기울기 계산\n",
        "\n",
        "x = tf.Variable( tf.zeros((2,2)) )\n",
        "x"
      ],
      "metadata": {
        "colab": {
          "base_uri": "https://localhost:8080/"
        },
        "id": "tiEc27axa0sD",
        "outputId": "272fab47-dc3c-482b-e5cf-a55863a7ca2b"
      },
      "execution_count": 5,
      "outputs": [
        {
          "output_type": "execute_result",
          "data": {
            "text/plain": [
              "<tf.Variable 'Variable:0' shape=(2, 2) dtype=float32, numpy=\n",
              "array([[0., 0.],\n",
              "       [0., 0.]], dtype=float32)>"
            ]
          },
          "metadata": {},
          "execution_count": 5
        }
      ]
    },
    {
      "cell_type": "code",
      "source": [
        "with tf.GradientTape() as tape:\n",
        "  y = 2*x + 3\n",
        "\n",
        "grad_y_x = tape.gradient(y, x)\n",
        "grad_y_x"
      ],
      "metadata": {
        "colab": {
          "base_uri": "https://localhost:8080/"
        },
        "id": "zpX3nilYbN6h",
        "outputId": "8f5a04b2-cb46-4a42-88ca-bbfb92368aa2"
      },
      "execution_count": 6,
      "outputs": [
        {
          "output_type": "execute_result",
          "data": {
            "text/plain": [
              "<tf.Tensor: shape=(2, 2), dtype=float32, numpy=\n",
              "array([[2., 2.],\n",
              "       [2., 2.]], dtype=float32)>"
            ]
          },
          "metadata": {},
          "execution_count": 6
        }
      ]
    },
    {
      "cell_type": "code",
      "source": [
        "#3. 선형함수의 기울기 w 계산\n",
        "\n",
        "#가중치 = 기울기\n",
        "W = tf.Variable(tf.random.uniform((2,2)))\n",
        "b = tf.Variable(tf.zeros(2,))\n",
        "\n",
        "x = tf.random.uniform((2,2))\n",
        "with tf.GradientTape() as tape:\n",
        "  y = tf.matmul(x, W) + b  # W*x 선형함수식 , 점곱합수\n",
        "\n",
        "grad_y_x_b = tape.gradient(y, [W,b] ) # 편미분\n",
        "grad_y_x_b # 2개 텐서 담긴 리스트"
      ],
      "metadata": {
        "colab": {
          "base_uri": "https://localhost:8080/"
        },
        "id": "P74ZrLOwbmz8",
        "outputId": "30ef1eb4-335a-408b-b417-61ba8cf02378"
      },
      "execution_count": 11,
      "outputs": [
        {
          "output_type": "execute_result",
          "data": {
            "text/plain": [
              "[<tf.Tensor: shape=(2, 2), dtype=float32, numpy=\n",
              " array([[0.8373891, 0.8373891],\n",
              "        [1.8033402, 1.8033402]], dtype=float32)>,\n",
              " <tf.Tensor: shape=(2,), dtype=float32, numpy=array([2., 2.], dtype=float32)>]"
            ]
          },
          "metadata": {},
          "execution_count": 11
        }
      ]
    },
    {
      "cell_type": "code",
      "source": [],
      "metadata": {
        "id": "MwaOvez_cUyJ"
      },
      "execution_count": null,
      "outputs": []
    }
  ]
}